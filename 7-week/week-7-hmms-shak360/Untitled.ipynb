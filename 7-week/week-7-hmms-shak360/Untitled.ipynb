{
 "cells": [
  {
   "cell_type": "code",
   "execution_count": 29,
   "metadata": {},
   "outputs": [],
   "source": [
    "import numpy as np\n",
    "import matplotlib.pyplot as plt\n",
    "%matplotlib inline\n",
    "import math"
   ]
  },
  {
   "cell_type": "code",
   "execution_count": 30,
   "metadata": {},
   "outputs": [],
   "source": [
    "X = np.linspace(start=-5, stop=5, num=1000)"
   ]
  },
  {
   "cell_type": "code",
   "execution_count": 31,
   "metadata": {},
   "outputs": [],
   "source": [
    "r = 4"
   ]
  },
  {
   "cell_type": "code",
   "execution_count": 40,
   "metadata": {},
   "outputs": [
    {
     "name": "stdout",
     "output_type": "stream",
     "text": [
      "(10, 10)\n",
      "-5 -5 False\n",
      "-5 -4 False\n",
      "-5 -3 False\n",
      "-5 -2 False\n",
      "-5 -1 False\n",
      "-5 0 False\n",
      "-5 1 False\n",
      "-5 2 False\n",
      "-5 3 False\n",
      "-5 4 False\n",
      "-4 -5 False\n",
      "-4 -4 False\n",
      "-4 -3 False\n",
      "-4 -2 False\n",
      "-4 -1 False\n",
      "-4 0 True\n",
      "-4 1 False\n",
      "-4 2 False\n",
      "-4 3 False\n",
      "-4 4 False\n",
      "-3 -5 False\n",
      "-3 -4 False\n",
      "-3 -3 False\n",
      "-3 -2 True\n",
      "-3 -1 True\n",
      "-3 0 True\n",
      "-3 1 True\n",
      "-3 2 True\n",
      "-3 3 False\n",
      "-3 4 False\n",
      "-2 -5 False\n",
      "-2 -4 False\n",
      "-2 -3 True\n",
      "-2 -2 True\n",
      "-2 -1 True\n",
      "-2 0 True\n",
      "-2 1 True\n",
      "-2 2 True\n",
      "-2 3 True\n",
      "-2 4 False\n",
      "-1 -5 False\n",
      "-1 -4 False\n",
      "-1 -3 True\n",
      "-1 -2 True\n",
      "-1 -1 True\n",
      "-1 0 True\n",
      "-1 1 True\n",
      "-1 2 True\n",
      "-1 3 True\n",
      "-1 4 False\n",
      "0 -5 False\n",
      "0 -4 True\n",
      "0 -3 True\n",
      "0 -2 True\n",
      "0 -1 True\n",
      "0 0 True\n",
      "0 1 True\n",
      "0 2 True\n",
      "0 3 True\n",
      "0 4 True\n",
      "1 -5 False\n",
      "1 -4 False\n",
      "1 -3 True\n",
      "1 -2 True\n",
      "1 -1 True\n",
      "1 0 True\n",
      "1 1 True\n",
      "1 2 True\n",
      "1 3 True\n",
      "1 4 False\n",
      "2 -5 False\n",
      "2 -4 False\n",
      "2 -3 True\n",
      "2 -2 True\n",
      "2 -1 True\n",
      "2 0 True\n",
      "2 1 True\n",
      "2 2 True\n",
      "2 3 True\n",
      "2 4 False\n",
      "3 -5 False\n",
      "3 -4 False\n",
      "3 -3 False\n",
      "3 -2 True\n",
      "3 -1 True\n",
      "3 0 True\n",
      "3 1 True\n",
      "3 2 True\n",
      "3 3 False\n",
      "3 4 False\n",
      "4 -5 False\n",
      "4 -4 False\n",
      "4 -3 False\n",
      "4 -2 False\n",
      "4 -1 False\n",
      "4 0 True\n",
      "4 1 False\n",
      "4 2 False\n",
      "4 3 False\n",
      "4 4 False\n"
     ]
    }
   ],
   "source": [
    "a = np.zeros(shape=(10,10))\n",
    "print(a.shape)\n",
    "for I in range (-5,5):\n",
    "    for J in range (-5,5):\n",
    "        ref1 = (((I)**2+(J)**2<=r**2))\n",
    "        print(\"{} {} {}\".format(I,J,ref1))\n",
    "        a[I+5,J+5] = ref1\n"
   ]
  },
  {
   "cell_type": "code",
   "execution_count": 41,
   "metadata": {},
   "outputs": [
    {
     "name": "stdout",
     "output_type": "stream",
     "text": [
      "[[ 0.  0.  0.  0.  0.  0.  0.  0.  0.  0.]\n",
      " [ 0.  0.  0.  0.  0.  1.  0.  0.  0.  0.]\n",
      " [ 0.  0.  0.  1.  1.  1.  1.  1.  0.  0.]\n",
      " [ 0.  0.  1.  1.  1.  1.  1.  1.  1.  0.]\n",
      " [ 0.  0.  1.  1.  1.  1.  1.  1.  1.  0.]\n",
      " [ 0.  1.  1.  1.  1.  1.  1.  1.  1.  1.]\n",
      " [ 0.  0.  1.  1.  1.  1.  1.  1.  1.  0.]\n",
      " [ 0.  0.  1.  1.  1.  1.  1.  1.  1.  0.]\n",
      " [ 0.  0.  0.  1.  1.  1.  1.  1.  0.  0.]\n",
      " [ 0.  0.  0.  0.  0.  1.  0.  0.  0.  0.]]\n"
     ]
    }
   ],
   "source": [
    "print(a)"
   ]
  },
  {
   "cell_type": "code",
   "execution_count": null,
   "metadata": {},
   "outputs": [],
   "source": []
  },
  {
   "cell_type": "code",
   "execution_count": null,
   "metadata": {},
   "outputs": [],
   "source": []
  }
 ],
 "metadata": {
  "kernelspec": {
   "display_name": "Python 3",
   "language": "python",
   "name": "python3"
  },
  "language_info": {
   "codemirror_mode": {
    "name": "ipython",
    "version": 3
   },
   "file_extension": ".py",
   "mimetype": "text/x-python",
   "name": "python",
   "nbconvert_exporter": "python",
   "pygments_lexer": "ipython3",
   "version": "3.6.2"
  }
 },
 "nbformat": 4,
 "nbformat_minor": 2
}
