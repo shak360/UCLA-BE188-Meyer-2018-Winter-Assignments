{
 "cells": [
  {
   "cell_type": "code",
   "execution_count": 56,
   "metadata": {
    "collapsed": true
   },
   "outputs": [],
   "source": [
    "%matplotlib inline\n",
    "\n",
    "import numpy as np\n",
    "import scipy as sp\n",
    "import matplotlib.pyplot as plt\n",
    "\n",
    "from scipy import stats"
   ]
  },
  {
   "cell_type": "code",
   "execution_count": 57,
   "metadata": {},
   "outputs": [],
   "source": [
    "mu = 0; mu2 = 0.5\n",
    "sigma = 1; sigma2 =1\n",
    "N=1000\n",
    "\n",
    "lam = 7\n",
    "\n",
    "X1 = np.random.normal(mu, sigma, N)\n",
    "X4 = np.random.normal(mu, sigma, N)\n",
    "X2 = np.random.normal(mu2, sigma2, N)\n",
    "X3 = np.random.poisson(4, N)"
   ]
  },
  {
   "cell_type": "code",
   "execution_count": 58,
   "metadata": {},
   "outputs": [
    {
     "data": {
      "image/png": "[encoded data removed]",
      "text/plain": [
       "<matplotlib.figure.Figure at 0x25c9687cc18>"
      ]
     },
     "metadata": {},
     "output_type": "display_data"
    }
   ],
   "source": [
    "x_min, x_max = -4, 4\n",
    "\n",
    "plt.style.use(\"ggplot\")\n",
    "\n",
    "# plot X1\n",
    "plt.subplot(221)\n",
    "plt.hist(X1,100)\n",
    "plt.xlim(x_min,x_max)\n",
    "\n",
    "# plot X2\n",
    "plt.subplot(222)\n",
    "plt.hist(X2,100)\n",
    "plt.xlim(x_min,x_max)\n",
    "\n",
    "# plot X3\n",
    "plt.subplot(224)\n",
    "plt.hist(X3,100)\n",
    "\n",
    "# plot X4\n",
    "plt.subplot(223)\n",
    "plt.xlim(x_min,x_max)\n",
    "plt.hist(X4,100);"
   ]
  },
  {
   "cell_type": "code",
   "execution_count": 59,
   "metadata": {},
   "outputs": [
    {
     "name": "stdout",
     "output_type": "stream",
     "text": [
      "-11.2970822897 9.88428760183e-29\n"
     ]
    }
   ],
   "source": [
    "t_normal, p_normal = stats.ttest_ind(X1,X2,equal_var = True)\n",
    "\n",
    "print(t_normal, p_normal)"
   ]
  },
  {
   "cell_type": "code",
   "execution_count": 60,
   "metadata": {},
   "outputs": [
    {
     "name": "stdout",
     "output_type": "stream",
     "text": [
      "0.56964381558 0.568983342395\n"
     ]
    }
   ],
   "source": [
    "t_normalOther, p_normalOther = stats.ttest_ind(X1,X4,equal_var = True)\n",
    "print(t_normalOther, p_normalOther)"
   ]
  },
  {
   "cell_type": "code",
   "execution_count": 61,
   "metadata": {},
   "outputs": [
    {
     "data": {
      "text/plain": [
       "Ks_2sampResult(statistic=0.21700000000000003, pvalue=4.1821821529692984e-21)"
      ]
     },
     "execution_count": 61,
     "metadata": {},
     "output_type": "execute_result"
    }
   ],
   "source": [
    "stats.ks_2samp(X1,X2)"
   ]
  },
  {
   "cell_type": "code",
   "execution_count": null,
   "metadata": {
    "collapsed": true
   },
   "outputs": [],
   "source": []
  }
 ],
 "metadata": {
  "kernelspec": {
   "display_name": "Python 3",
   "language": "python",
   "name": "python3"
  },
  "language_info": {
   "codemirror_mode": {
    "name": "ipython",
    "version": 3
   },
   "file_extension": ".py",
   "mimetype": "text/x-python",
   "name": "python",
   "nbconvert_exporter": "python",
   "pygments_lexer": "ipython3",
   "version": "3.6.2"
  }
 },
 "nbformat": 4,
 "nbformat_minor": 2
}
