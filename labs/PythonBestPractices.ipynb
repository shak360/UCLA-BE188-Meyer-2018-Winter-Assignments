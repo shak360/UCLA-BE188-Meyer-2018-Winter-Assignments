{
 "cells": [
  {
   "cell_type": "markdown",
   "metadata": {},
   "source": [
    "## 1 - How extensive should commenting be?\n",
    "\n"
   ]
  },
  {
   "cell_type": "markdown",
   "metadata": {},
   "source": [
    "#### When to comment  \n",
    "1) Right underneath function definitions  -- use format ```'''<comment>''' ```   \n",
    "2) For non-intuitive code  \n",
    "3) Whenever you want change something: Comment out a line to save it for later. \n",
    "- this lets you test new lines of code \n"
   ]
  },
  {
   "cell_type": "code",
   "execution_count": 45,
   "metadata": {},
   "outputs": [
    {
     "name": "stdout",
     "output_type": "stream",
     "text": [
      "Help on function myfunction in module __main__:\n",
      "\n",
      "myfunction(x)\n",
      "    returns input plus 2.\n",
      "\n"
     ]
    }
   ],
   "source": [
    "# 1) Below function definitions\n",
    "def myfunction(x):\n",
    "    '''returns input plus 2.'''\n",
    "    # x +=1 # probably don't need this\n",
    "    return x+2\n",
    "\n",
    "help(myfunction)"
   ]
  },
  {
   "cell_type": "markdown",
   "metadata": {},
   "source": [
    "## 2 - How to read Python documentation?"
   ]
  },
  {
   "cell_type": "code",
   "execution_count": 76,
   "metadata": {},
   "outputs": [
    {
     "name": "stdout",
     "output_type": "stream",
     "text": [
      "\n",
      "Machine learning module for Python\n",
      "==================================\n",
      "\n",
      "sklearn is a Python module integrating classical machine\n",
      "learning algorithms in the tightly-knit world of scientific Python\n",
      "packages (numpy, scipy, matplotlib).\n",
      "\n",
      "It aims to provide simple and efficient solutions to learning problems\n",
      "that are accessible to everybody and reusable in various contexts:\n",
      "machine-learning as a versatile tool for science and engineering.\n",
      "\n",
      "See http://scikit-learn.org for complete documentation.\n",
      "\n"
     ]
    }
   ],
   "source": [
    "import sklearn\n",
    "print(sklearn.__doc__)\n"
   ]
  },
  {
   "cell_type": "markdown",
   "metadata": {},
   "source": [
    "- You can usually ignore _ _ double underscores _ _ :  \n",
    "`class.__init___` etc\n",
    "\n",
    "- Anything with [ ] square brackets is optional: \n",
    "`func(arg1, [optArg1, optArg2])`"
   ]
  },
  {
   "cell_type": "markdown",
   "metadata": {},
   "source": [
    "#### 2b) -- Dealing with errors\n",
    "[Stack Overflow](http://stackoverflow.com)\n",
    "\n",
    "Google: [ `<some error>` **site:stackoverflow.com** ]\n",
    "\n",
    "- most of the time, just copy and paste the exact error. "
   ]
  },
  {
   "cell_type": "code",
   "execution_count": 85,
   "metadata": {},
   "outputs": [
    {
     "ename": "TypeError",
     "evalue": "float() takes at most 1 argument (2 given)",
     "output_type": "error",
     "traceback": [
      "\u001b[0;31m---------------------------------------------------------------------------\u001b[0m",
      "\u001b[0;31mTypeError\u001b[0m                                 Traceback (most recent call last)",
      "\u001b[0;32m<ipython-input-85-7eb6b1b4f81f>\u001b[0m in \u001b[0;36m<module>\u001b[0;34m()\u001b[0m\n\u001b[0;32m----> 1\u001b[0;31m \u001b[0mnp\u001b[0m\u001b[0;34m.\u001b[0m\u001b[0mfloat\u001b[0m\u001b[0;34m(\u001b[0m\u001b[0;36m32\u001b[0m\u001b[0;34m,\u001b[0m\u001b[0;36m2\u001b[0m\u001b[0;34m)\u001b[0m\u001b[0;34m\u001b[0m\u001b[0m\n\u001b[0m",
      "\u001b[0;31mTypeError\u001b[0m: float() takes at most 1 argument (2 given)"
     ]
    }
   ],
   "source": [
    "np.float(32,2)"
   ]
  },
  {
   "cell_type": "code",
   "execution_count": 87,
   "metadata": {},
   "outputs": [
    {
     "ename": "ImportError",
     "evalue": "cannot import name 'image'",
     "output_type": "error",
     "traceback": [
      "\u001b[0;31m---------------------------------------------------------------------------\u001b[0m",
      "\u001b[0;31mImportError\u001b[0m                               Traceback (most recent call last)",
      "\u001b[0;32m<ipython-input-87-7892611e7a30>\u001b[0m in \u001b[0;36m<module>\u001b[0;34m()\u001b[0m\n\u001b[0;32m----> 1\u001b[0;31m \u001b[0;32mfrom\u001b[0m \u001b[0mPIL\u001b[0m \u001b[0;32mimport\u001b[0m \u001b[0mimage\u001b[0m\u001b[0;34m\u001b[0m\u001b[0m\n\u001b[0m",
      "\u001b[0;31mImportError\u001b[0m: cannot import name 'image'"
     ]
    }
   ],
   "source": [
    "from PIL import image"
   ]
  },
  {
   "cell_type": "markdown",
   "metadata": {},
   "source": [
    "https://stackoverflow.com/questions/21456964/importerror-no-module-named-image"
   ]
  },
  {
   "cell_type": "markdown",
   "metadata": {},
   "source": [
    "## 3 - Plotting / Organizing data\n",
    "[.](https://github.com/amueller/introduction_to_ml_with_python/blob/master/03-unsupervised-learning.ipynb)\n",
    "\n",
    "**Plotting**\n",
    "- Figures:    --  `plt.figure(figsize = (<width>, <height>)`\n",
    "- Titles: -- `plt.title('<My Title>')`\n",
    "- Legends -- `plt.legend(['plt1, plt2, ..., pltn'])`\n",
    "- Scatter Plot -- `plt.scatter(xPoints, yPoints, c = <color>)`"
   ]
  },
  {
   "cell_type": "code",
   "execution_count": 69,
   "metadata": {},
   "outputs": [
    {
     "data": {
      "image/png": "[encoded data removed]",
      "text/plain": [
       "<matplotlib.figure.Figure at 0x7fd3bf7a48d0>"
      ]
     },
     "metadata": {},
     "output_type": "display_data"
    },
    {
     "data": {
      "image/png": "[encoded data removed]",
      "text/plain": [
       "<matplotlib.figure.Figure at 0x7fd3bf694f98>"
      ]
     },
     "metadata": {},
     "output_type": "display_data"
    }
   ],
   "source": [
    "import matplotlib\n",
    "from matplotlib import pyplot as plt\n",
    "fig1 = plt.figure(figsize = (4,4))\n",
    "\n",
    "plt.hist(np.random.poisson(23,100),15, color = np.random.rand(3))#(0.95, 0.4, 0.59)); #(data, numBins, color tuple)\n",
    "plt.title('Poisson Histogram')\n",
    "plt.legend(['bins'])\n",
    "\n",
    "fig2 = plt.figure(figsize = (4,4))\n",
    "line_up, = plt.plot([1,2,3], label='Line 2')\n",
    "line_down, = plt.plot([3,2,1], label='Line 1')\n",
    "plt.legend([line_up, line_down], ['Line Up', 'Line Down'])\n",
    "plt.show()"
   ]
  },
  {
   "cell_type": "markdown",
   "metadata": {},
   "source": [
    "**Data Wrangling**\n",
    "- 10 minutes to pandas http://pandas.pydata.org/pandas-docs/stable/10min.html\n",
    "- Pandas Cookbook https://github.com/jvns/pandas-cookbook  \n",
    "\n",
    "**Importing Data**\n",
    "- Pandas: **read_csv**\n",
    "- Images - **image, cv2, scipy.misc.imread**\n",
    "- .mat files from Matlab: **h5py**\n",
    "- HDF5: **h5py**\n"
   ]
  },
  {
   "cell_type": "markdown",
   "metadata": {},
   "source": [
    "## 4 - Importing from Github Repo: \n",
    "- You should keep *everything* in your GitHub repo.\n",
    "    - Images, data, scripts, `.py` files, etc.\n",
    "- To clone it from jupyter:\n",
    "    - `!git clone <url>`"
   ]
  },
  {
   "cell_type": "code",
   "execution_count": 5,
   "metadata": {},
   "outputs": [
    {
     "name": "stdout",
     "output_type": "stream",
     "text": [
      "Cloning into 'introduction_to_ml_with_python'...\n",
      "remote: Counting objects: 338, done.\u001b[K\n",
      "remote: Total 338 (delta 0), reused 0 (delta 0), pack-reused 338\u001b[K\n",
      "Receiving objects: 100% (338/338), 143.39 MiB | 8.07 MiB/s, done.\n",
      "Resolving deltas: 100% (166/166), done.\n"
     ]
    }
   ],
   "source": [
    "#Example:\n",
    "!git clone https://github.com/amueller/introduction_to_ml_with_python.git"
   ]
  },
  {
   "cell_type": "markdown",
   "metadata": {},
   "source": [
    "1. Open a github account and remember your username  \n",
    "2. Create a public project in your accounts and remember the project_name  \n",
    "3. `git clone` the project to a local directory  \n",
    "4. `cd` to the same directory  \n",
    "5. ipython notebook\n",
    "6. Develop and test your notebook, remembering to save before exit  \n",
    "7. `git add` the name of your notebook  \n",
    "8. `git commit -m\"Description of your change \"` to remember what the change was  \n",
    "9. `git push`  \n",
    "10. Go to http://nbviewer.ipython.org/ and enter username/project_name  \n",
    "Repeat steps 5..10 as necessary  "
   ]
  },
  {
   "cell_type": "markdown",
   "metadata": {},
   "source": [
    "# 5 -  Libraries (so you don't have to do everything from scratch)\n",
    "- Machine-learning Toolbox: https://github.com/yandex/rep\n",
    "- Bioinformatics: http://biopython.org \n",
    "- Image processing: http://scikit-image.org\n",
    "- Time-series Forecasting: https://facebook.github.io/prophet/\n",
    "- Neuroimaging: https://github.com/nilearn/nilearn\n",
    "- Networks: https://networkx.github.io\n",
    "- Symbolic Math: https://github.com/sympy/sympy\n",
    "- Dataset Visualization: https://github.com/apache/incubator-superset\n",
    "- ML megalist: https://github.com/josephmisiti/awesome-machine-learning#python"
   ]
  },
  {
   "cell_type": "markdown",
   "metadata": {},
   "source": [
    "## Cheat Sheets\n",
    "- [**sklearn** cheat sheet](http://scikit-learn.org/stable/tutorial/machine_learning_map/)\n",
    "- [**matplotlib**](https://github.com/ehmatthes/pcc/releases/download/v1.0.0/beginners_python_cheat_sheet_pcc_matplotlib.pdf)\n",
    "- [Python functions](https://github.com/ehmatthes/pcc/releases/download/v1.0.0/beginners_python_cheat_sheet_pcc_functions.pdf)\n",
    "- [Python classes](https://github.com/ehmatthes/pcc/releases/download/v1.0.0/beginners_python_cheat_sheet_pcc_classes.pdf)\n",
    "- [Python cheat sheets](https://ehmatthes.github.io/pcc/cheatsheets/README.html)\n"
   ]
  },
  {
   "cell_type": "markdown",
   "metadata": {},
   "source": [
    "## Tutorials etc.\n",
    "\n",
    "- [sklearn video series](https://github.com/justmarkham/scikit-learn-videos)\n",
    "- [101 numpy exercises](https://www.machinelearningplus.com/101-numpy-exercises-python/) -- Exs. 1-29"
   ]
  },
  {
   "cell_type": "code",
   "execution_count": 71,
   "metadata": {},
   "outputs": [
    {
     "data": {
      "image/png": "[encoded data removed]",
      "text/plain": [
       "<matplotlib.figure.Figure at 0x7fd417d72b70>"
      ]
     },
     "metadata": {},
     "output_type": "display_data"
    }
   ],
   "source": [
    "#!pip3 install -U --user milksets\n",
    "from pylab import *\n",
    "import numpy as np\n",
    "\n",
    "from milksets.wine import load\n",
    "import milk.supervised\n",
    "import milk.unsupervised.pca\n",
    "import milk.supervised.svm\n",
    "\n",
    "features, labels = load()\n",
    "features = features[labels < 2]\n",
    "labels = labels[labels < 2]\n",
    "features,_ = milk.unsupervised.pca(features)\n",
    "features = features[:,:2]\n",
    "learner = milk.supervised.svm.svm_raw(kernel=np.dot, C=12)\n",
    "model = learner.train(features, labels)\n",
    "w = np.dot(model.svs.T, model.Yw)\n",
    "b = model.b\n",
    "x = np.linspace(-.5, .1, 100)\n",
    "y = -w[0]/w[1]*x + b/w[1]\n",
    "plot(features[labels == 1][:,0], features[labels == 1][:,1], 'bx')\n",
    "plot(features[labels == 0][:,0], features[labels == 0][:,1], 'ro')\n",
    "plot(x,y)\n",
    "plt.show()"
   ]
  },
  {
   "cell_type": "code",
   "execution_count": 72,
   "metadata": {},
   "outputs": [
    {
     "data": {
      "image/png": "[encoded data removed]",
      "text/plain": [
       "<matplotlib.figure.Figure at 0x7fd3bf6e5d30>"
      ]
     },
     "metadata": {},
     "output_type": "display_data"
    }
   ],
   "source": [
    "#savefig('svm-demo-points.pdf')\n",
    "\n",
    "#clf()\n",
    "\n",
    "learner = milk.supervised.svm.svm_raw(kernel=milk.supervised.svm.rbf_kernel(1.), C=12)\n",
    "model = learner.train(features, labels)\n",
    "Y, X = (np.mgrid[:101,:101]-50)/12.5\n",
    "values = [model.apply((y,x)) for y,x in zip(Y.ravel(),X.ravel())]\n",
    "values = np.array(values).reshape(Y.shape)\n",
    "sfeatures = features*12.5\n",
    "sfeatures += 50\n",
    "plot(sfeatures[labels == 0][:,0], sfeatures[labels == 0][:,1], 'bo')\n",
    "plot(sfeatures[labels == 1][:,0], sfeatures[labels == 1][:,1], 'ro')\n",
    "imshow(values.T)\n",
    "savefig('svm-demo-boundary.pdf')"
   ]
  }
 ],
 "metadata": {
  "kernelspec": {
   "display_name": "Python 3",
   "language": "python",
   "name": "python3"
  },
  "language_info": {
   "codemirror_mode": {
    "name": "ipython",
    "version": 3
   },
   "file_extension": ".py",
   "mimetype": "text/x-python",
   "name": "python",
   "nbconvert_exporter": "python",
   "pygments_lexer": "ipython3",
   "version": "3.6.3"
  }
 },
 "nbformat": 4,
 "nbformat_minor": 2
}
