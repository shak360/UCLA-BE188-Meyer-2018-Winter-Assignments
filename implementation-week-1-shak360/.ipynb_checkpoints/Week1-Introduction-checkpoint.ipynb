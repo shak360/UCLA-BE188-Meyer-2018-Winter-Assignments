{
 "cells": [
  {
   "cell_type": "markdown",
   "metadata": {},
   "source": [
    "# Week 1 - Introduction\n",
    "\n",
    "**Due January 18 at 8 PM**\n",
    "\n",
    "A quick introduction to git and python.\n",
    "\n",
    "Please run through this tutorial on [how git](https://try.github.io/) functions. Further reading on git [exists here](http://swcarpentry.github.io/git-novice/).\n",
    "\n",
    "For an introduction to python programming, please follow the tutorials [here](http://swcarpentry.github.io/python-novice-inflammation/) and [here](https://swcarpentry.github.io/python-novice-gapminder/).\n",
    "\n",
    "We will cover certain aspects of python programming and specific packages throughout the course. However, at the end of these tutorials, you should be comfortable with the exercises below."
   ]
  },
  {
   "cell_type": "code",
   "execution_count": 79,
   "metadata": {
    "collapsed": true
   },
   "outputs": [],
   "source": [
    "%matplotlib inline\n",
    "from sklearn import datasets\n",
    "import numpy as np\n",
    "import matplotlib.pyplot as plt"
   ]
  },
  {
   "cell_type": "markdown",
   "metadata": {},
   "source": [
    "#### (1) Write a function that stores the first 100 numbers of the fibannaci sequence in a numpy array.\n",
    "\n",
    "Then write two assertions as tests of your function."
   ]
  },
  {
   "cell_type": "code",
   "execution_count": 80,
   "metadata": {},
   "outputs": [
    {
     "name": "stdout",
     "output_type": "stream",
     "text": [
      "[0 1 1 2 3 5 8 13 21 34 55 89 144 233 377 610 987 1597 2584 4181 6765 10946\n",
      " 17711 28657 46368 75025 121393 196418 317811 514229 832040 1346269 2178309\n",
      " 3524578 5702887 9227465 14930352 24157817 39088169 63245986 102334155\n",
      " 165580141 267914296 433494437 701408733 1134903170 1836311903 2971215073\n",
      " 4807526976 7778742049 12586269025 20365011074 32951280099 53316291173\n",
      " 86267571272 139583862445 225851433717 365435296162 591286729879\n",
      " 956722026041 1548008755920 2504730781961 4052739537881 6557470319842\n",
      " 10610209857723 17167680177565 27777890035288 44945570212853 72723460248141\n",
      " 117669030460994 190392490709135 308061521170129 498454011879264\n",
      " 806515533049393 1304969544928657 2111485077978050 3416454622906707\n",
      " 5527939700884757 8944394323791464 14472334024676221 23416728348467685\n",
      " 37889062373143906 61305790721611591 99194853094755497 160500643816367088\n",
      " 259695496911122585 420196140727489673 679891637638612258\n",
      " 1100087778366101931 1779979416004714189 2880067194370816120\n",
      " 4660046610375530309 7540113804746346429 12200160415121876738\n",
      " 19740274219868223167 31940434634990099905 51680708854858323072\n",
      " 83621143489848422977 135301852344706746049 218922995834555169026\n",
      " 354224848179261915075 573147844013817084101]\n"
     ]
    }
   ],
   "source": [
    "def fib_lister(n):\n",
    "    \n",
    "    def fib(m):\n",
    "        if (m == 0):\n",
    "            x = 0\n",
    "        elif (m == 1):\n",
    "            x = 1\n",
    "        elif (m>1):\n",
    "            p = 0\n",
    "            q = 1\n",
    "            r = 1\n",
    "            for i in range(2,m):\n",
    "                p = q + r\n",
    "                q = r\n",
    "                r = p\n",
    "            x = r\n",
    "        return(x)\n",
    "                \n",
    "            \n",
    "    \n",
    "    fib_list = [0,1]\n",
    "    if n == 0:\n",
    "        pass\n",
    "    else:\n",
    "        for i in range (2,n+1):\n",
    "            fib_list.append(fib(i))\n",
    "    return(np.array(fib_list))\n",
    "\n",
    "fib_101array = fib_lister(101)\n",
    "\n",
    "print(fib_101array)\n",
    "\n",
    "assert(fib_101array[0] == 0)\n",
    "assert(fib_101array[1] == 1)\n",
    "assert(fib_101array[2] == 1)\n",
    "assert(fib_101array[20] == 6765)\n",
    "assert(fib_101array[40] == 102334155)\n",
    "assert(fib_101array[60] == 1548008755920)\n",
    "assert(fib_101array[80] != 6765)\n",
    "assert(fib_101array[100] == 354224848179261915075)\n"
   ]
  },
  {
   "cell_type": "markdown",
   "metadata": {},
   "source": [
    "#### (2) Plot the selected data from this Boston home price dataset, labeling the X and Y axes."
   ]
  },
  {
   "cell_type": "code",
   "execution_count": 82,
   "metadata": {
    "scrolled": true
   },
   "outputs": [
    {
     "data": {
      "image/png": "[encoded data removed]",
      "text/plain": [
       "<matplotlib.figure.Figure at 0x17111621828>"
      ]
     },
     "metadata": {},
     "output_type": "display_data"
    }
   ],
   "source": [
    "boston = datasets.load_boston()\n",
    "\n",
    "y = boston.target\n",
    "x = boston.data[:,0]\n",
    "ylabel = \"Home Prices ($1000)\"\n",
    "xlabel = \"Crime (per capita)\"\n",
    "\n",
    "y_max = np.amax(y)\n",
    "x_max = np.amax(x)\n",
    "\n",
    "plt.scatter(x,y, marker=\".\")\n",
    "plt.ylabel(ylabel)\n",
    "plt.xlabel(xlabel)\n",
    "plt.title(\"Crime and Home Prices in Boston\")\n",
    "\n",
    "plt.ylim((-0.1*y_max,1.1*y_max))\n",
    "plt.xlim((-0.1*x_max,1.1*x_max))\n",
    "\n",
    "plt.style.use('ggplot')\n",
    "plt.show()"
   ]
  },
  {
   "cell_type": "markdown",
   "metadata": {},
   "source": [
    "#### (3) Write a function that satisfies the assertions below."
   ]
  },
  {
   "cell_type": "code",
   "execution_count": 83,
   "metadata": {},
   "outputs": [],
   "source": [
    "#def func(x,y):\n",
    "#    if x == 0:\n",
    "#        z = 40\n",
    "#    elif x == 1:\n",
    "#        z = 21\n",
    "#    elif x == 2:\n",
    "#        z = 12\n",
    "#    elif x == 3:\n",
    "#        z = 7\n",
    "#    elif x == 4:\n",
    "#        z = 6\n",
    "#    return(z)\n",
    "\n",
    "def func(x,y):\n",
    "    return (x+2*y)\n",
    "\n",
    "assert(func(0, 20) == 40)\n",
    "assert(func(1, 10) == 21)\n",
    "assert(func(2, 5) == 12)\n",
    "assert(func(3, 2) == 7)\n",
    "assert(func(4, 1) == 6)"
   ]
  },
  {
   "cell_type": "markdown",
   "metadata": {},
   "source": [
    "#### (4) Briefly describe one skill and/or ability you would like to take away from this class."
   ]
  },
  {
   "cell_type": "markdown",
   "metadata": {},
   "source": [
    "I want to learn the best way to approach how data should be modeled in terms of choosing a particular model from knowing what I want as an output and looking at the data before me. I think there are a lot of options (models) to choose from, but how does one choose a model for best results with the most elegant solution.\n",
    "\n",
    "Unsupervised learning is also really cool and is something I would like to see a little bit from this class."
   ]
  },
  {
   "cell_type": "markdown",
   "metadata": {},
   "source": [
    "#### (5) Describe your previous experience with programming, statistics, and modeling, including courses and which languages you've used. There is no wrong answer here—this will help us better tailor the class."
   ]
  },
  {
   "cell_type": "markdown",
   "metadata": {},
   "source": [
    "I have taken the probability course (170A) and linear algebra (33A, 115A, 115B) series under the math department. I'm also currently taking the mathematical modeling class (142). Bioengineering: Biotransport and Bioreaction processes (110) taught by Kamei also briefly goes into modeling using Simulink, and how to model chemical reactions, Michaelis-Menten kinetics, using systems of differential equations. However, we solved the more complicated scenarios using the Laplace transform and using several approximations, not through a computer assisted approach.\n",
    "\n",
    "In my research lab, I use MATLAB to model the Westervelt equation to see how ultrasound energy affects brain tissue.\n",
    "\n",
    "I primarily program in python and MATLAB, but I have taken CS 31 where they teach C++. I have also learned some R, and write scripts in BASH."
   ]
  },
  {
   "cell_type": "markdown",
   "metadata": {},
   "source": [
    "#### (6) Commit these files to git with a descriptive message."
   ]
  }
 ],
 "metadata": {
  "kernel_info": {
   "name": "python3"
  },
  "kernelspec": {
   "display_name": "Python 3",
   "language": "python",
   "name": "python3"
  },
  "language_info": {
   "codemirror_mode": {
    "name": "ipython",
    "version": 3
   },
   "file_extension": ".py",
   "mimetype": "text/x-python",
   "name": "python",
   "nbconvert_exporter": "python",
   "pygments_lexer": "ipython3",
   "version": "3.6.2"
  },
  "nteract": {
   "version": "0.3.4"
  }
 },
 "nbformat": 4,
 "nbformat_minor": 2
}
